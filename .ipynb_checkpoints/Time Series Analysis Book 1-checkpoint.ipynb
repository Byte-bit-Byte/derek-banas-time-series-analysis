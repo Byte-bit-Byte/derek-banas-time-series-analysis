{
 "cells": [
  {
   "cell_type": "markdown",
   "id": "915bf905",
   "metadata": {},
   "source": [
    "# Time Series Analysis Part 1"
   ]
  },
  {
   "cell_type": "markdown",
   "id": "d1834a01",
   "metadata": {},
   "source": [
    "## Imports"
   ]
  },
  {
   "cell_type": "code",
   "execution_count": 1,
   "id": "db02ea07",
   "metadata": {},
   "outputs": [],
   "source": [
    "import numpy as np\n",
    "import pandas as pd\n",
    "import matplotlib.pyplot as plt\n",
    "%matplotlib inline\n",
    "import chart_studio.plotly as py\n",
    "import plotly.express as px"
   ]
  },
  {
   "cell_type": "markdown",
   "id": "053f747f",
   "metadata": {},
   "source": [
    "## Pandas Datetime Index"
   ]
  },
  {
   "cell_type": "code",
   "execution_count": 2,
   "id": "66bcf318",
   "metadata": {},
   "outputs": [
    {
     "data": {
      "text/html": [
       "<div>\n",
       "<style scoped>\n",
       "    .dataframe tbody tr th:only-of-type {\n",
       "        vertical-align: middle;\n",
       "    }\n",
       "\n",
       "    .dataframe tbody tr th {\n",
       "        vertical-align: top;\n",
       "    }\n",
       "\n",
       "    .dataframe thead th {\n",
       "        text-align: right;\n",
       "    }\n",
       "</style>\n",
       "<table border=\"1\" class=\"dataframe\">\n",
       "  <thead>\n",
       "    <tr style=\"text-align: right;\">\n",
       "      <th></th>\n",
       "      <th>A</th>\n",
       "      <th>B</th>\n",
       "      <th>C</th>\n",
       "    </tr>\n",
       "  </thead>\n",
       "  <tbody>\n",
       "    <tr>\n",
       "      <th>2020-01-01</th>\n",
       "      <td>22</td>\n",
       "      <td>12</td>\n",
       "      <td>38</td>\n",
       "    </tr>\n",
       "    <tr>\n",
       "      <th>2020-01-02</th>\n",
       "      <td>39</td>\n",
       "      <td>46</td>\n",
       "      <td>46</td>\n",
       "    </tr>\n",
       "    <tr>\n",
       "      <th>2020-01-03</th>\n",
       "      <td>28</td>\n",
       "      <td>29</td>\n",
       "      <td>38</td>\n",
       "    </tr>\n",
       "  </tbody>\n",
       "</table>\n",
       "</div>"
      ],
      "text/plain": [
       "             A   B   C\n",
       "2020-01-01  22  12  38\n",
       "2020-01-02  39  46  46\n",
       "2020-01-03  28  29  38"
      ]
     },
     "execution_count": 2,
     "metadata": {},
     "output_type": "execute_result"
    }
   ],
   "source": [
    "# pd.date_range('2020-10-01', periods=15, freq='D')\n",
    "# pd.date_range('Oct 01, 2020', periods=15, freq='D')\n",
    "# pd.to_datetime(['10/01/2020', '10/02/2020'], format='%d/%m/%Y')\n",
    "\n",
    "arr_1 = np.random.randint(10, 50, size=(3,3))\n",
    "date_arr = pd.date_range('2020-01-01', periods=3, freq='D')\n",
    "df_1 = pd.DataFrame(arr_1, columns=['A','B','C'], index=date_arr)\n",
    "df_1\n",
    "# df_1.index.min()\\\n",
    "# df_1.index.max()\n",
    "# df_1.index.argmin()\n",
    "# df_1.index.argmax()"
   ]
  },
  {
   "cell_type": "markdown",
   "id": "938c9813",
   "metadata": {},
   "source": [
    "## Time Resampling"
   ]
  },
  {
   "cell_type": "code",
   "execution_count": 26,
   "id": "1e4b8bac",
   "metadata": {},
   "outputs": [
    {
     "data": {
      "text/plain": [
       "AAPL_x\n",
       "2014-03-31    2.015981\n",
       "2014-06-30    6.644557\n",
       "2014-09-30    3.036962\n",
       "2014-12-31    6.959381\n",
       "Freq: Q-DEC, Name: Price, dtype: float64"
      ]
     },
     "execution_count": 26,
     "metadata": {},
     "output_type": "execute_result"
    }
   ],
   "source": [
    "df_appl = pd.read_csv('appl.csv')\n",
    "px.line(df_appl, x='AAPL_x', y='AAPL_y', \n",
    "       labels={'x':'Date', 'y':'Price'})\n",
    "df_appl.head()\n",
    "\n",
    "df_appl = pd.read_csv('appl.csv', index_col='AAPL_x', parse_dates=True)\n",
    "df_appl\n",
    "\n",
    "arr_2 = np.random.randint(86000000, 256000000, size=240)\n",
    "df_appl['Volume'] = arr_2\n",
    "df_appl.rename(columns={'AAPL_y':'Price', 'AAPL_x':'Date'}, inplace=True)\n",
    "df_appl\n",
    "\n",
    "df_appl.resample(rule='A').mean()\n",
    "df_appl.resample(rule='A').min()\n",
    "df_appl.resample(rule='A').max()\n",
    "df_appl.resample(rule='A').sum()\n",
    "df_appl.resample(rule='A').std()\n",
    "\n",
    "# df_appl['Price'].resample('A').std() # Yearly basis with A\n",
    "# df_appl['Price'].resample('W').std() # Weekly basis with W\n",
    "# df_appl['Price'].resample('M').std() # Monthly basis with M\n",
    "# df_appl['Price'].resample('SM').std() # SemiMonthly basis or Biweekly with SM\n",
    "df_appl['Price'].resample('Q').std() # Quaterly basis with Q"
   ]
  },
  {
   "cell_type": "markdown",
   "id": "a6ef1bb3",
   "metadata": {},
   "source": [
    "## Moving Averages"
   ]
  },
  {
   "cell_type": "code",
   "execution_count": null,
   "id": "ebfe861b",
   "metadata": {},
   "outputs": [],
   "source": []
  }
 ],
 "metadata": {
  "kernelspec": {
   "display_name": "Python 3 (ipykernel)",
   "language": "python",
   "name": "python3"
  },
  "language_info": {
   "codemirror_mode": {
    "name": "ipython",
    "version": 3
   },
   "file_extension": ".py",
   "mimetype": "text/x-python",
   "name": "python",
   "nbconvert_exporter": "python",
   "pygments_lexer": "ipython3",
   "version": "3.9.7"
  }
 },
 "nbformat": 4,
 "nbformat_minor": 5
}
